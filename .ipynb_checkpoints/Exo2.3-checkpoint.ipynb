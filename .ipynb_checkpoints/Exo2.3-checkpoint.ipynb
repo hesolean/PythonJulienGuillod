{
 "cells": [
  {
   "cell_type": "code",
   "execution_count": 1,
   "id": "c0bcb837",
   "metadata": {},
   "outputs": [],
   "source": [
    "set0 = {0, 5.5, \"chaîne\", True}"
   ]
  },
  {
   "cell_type": "code",
   "execution_count": 2,
   "id": "7c1d78a6",
   "metadata": {},
   "outputs": [
    {
     "name": "stdout",
     "output_type": "stream",
     "text": [
      "dedans\n"
     ]
    }
   ],
   "source": [
    "if \"chaîne\" in set0:\n",
    "    print(\"dedans\")"
   ]
  },
  {
   "cell_type": "code",
   "execution_count": 3,
   "id": "6878ba19",
   "metadata": {},
   "outputs": [],
   "source": [
    "set0.add(18)\n",
    "set0.add(0)\n",
    "set0.remove(\"chaîne\")"
   ]
  },
  {
   "cell_type": "code",
   "execution_count": 4,
   "id": "8c4c2564",
   "metadata": {},
   "outputs": [
    {
     "name": "stdout",
     "output_type": "stream",
     "text": [
      "{0, True, 5.5, 18}\n"
     ]
    }
   ],
   "source": [
    "print(set0)"
   ]
  },
  {
   "cell_type": "code",
   "execution_count": 6,
   "id": "e3a52240",
   "metadata": {},
   "outputs": [],
   "source": [
    "set1 = set('abracadabra')"
   ]
  },
  {
   "cell_type": "code",
   "execution_count": 7,
   "id": "fcc93fea",
   "metadata": {},
   "outputs": [
    {
     "name": "stdout",
     "output_type": "stream",
     "text": [
      "{'r', 'c', 'd', 'a', 'b'}\n"
     ]
    }
   ],
   "source": [
    "print(set1)"
   ]
  },
  {
   "cell_type": "code",
   "execution_count": 10,
   "id": "7a66ebe5",
   "metadata": {},
   "outputs": [
    {
     "name": "stdout",
     "output_type": "stream",
     "text": [
      "25 est divisible par 25\n",
      "50 est divisible par 25\n",
      "75 est divisible par 25\n",
      "100 est divisible par 25\n"
     ]
    }
   ],
   "source": [
    "def divisible(n):\n",
    "    for x in range(1, 101):\n",
    "        if x%n == 0:\n",
    "            print(f\"{x} est divisible par {n}\")\n",
    "divisible(25)"
   ]
  },
  {
   "cell_type": "code",
   "execution_count": 12,
   "id": "e0ab1675",
   "metadata": {},
   "outputs": [
    {
     "name": "stdout",
     "output_type": "stream",
     "text": [
      "3 est divisible par 3 ou 5 mais pas par 2\n",
      "5 est divisible par 3 ou 5 mais pas par 2\n",
      "9 est divisible par 3 ou 5 mais pas par 2\n",
      "15 est divisible par 3 ou 5 mais pas par 2\n",
      "21 est divisible par 3 ou 5 mais pas par 2\n",
      "25 est divisible par 3 ou 5 mais pas par 2\n",
      "27 est divisible par 3 ou 5 mais pas par 2\n",
      "33 est divisible par 3 ou 5 mais pas par 2\n",
      "35 est divisible par 3 ou 5 mais pas par 2\n",
      "39 est divisible par 3 ou 5 mais pas par 2\n",
      "45 est divisible par 3 ou 5 mais pas par 2\n",
      "51 est divisible par 3 ou 5 mais pas par 2\n",
      "55 est divisible par 3 ou 5 mais pas par 2\n",
      "57 est divisible par 3 ou 5 mais pas par 2\n",
      "63 est divisible par 3 ou 5 mais pas par 2\n",
      "65 est divisible par 3 ou 5 mais pas par 2\n",
      "69 est divisible par 3 ou 5 mais pas par 2\n",
      "75 est divisible par 3 ou 5 mais pas par 2\n",
      "81 est divisible par 3 ou 5 mais pas par 2\n",
      "85 est divisible par 3 ou 5 mais pas par 2\n",
      "87 est divisible par 3 ou 5 mais pas par 2\n",
      "93 est divisible par 3 ou 5 mais pas par 2\n",
      "95 est divisible par 3 ou 5 mais pas par 2\n",
      "99 est divisible par 3 ou 5 mais pas par 2\n"
     ]
    }
   ],
   "source": [
    "def divisible25():\n",
    "    for x in range(1,101):\n",
    "        if (x%2 != 0) & ((x%3 == 0) | (x%5 == 0)):\n",
    "            print(f\"{x} est divisible par 3 ou 5 mais pas par 2\")\n",
    "divisible25()"
   ]
  },
  {
   "cell_type": "code",
   "execution_count": null,
   "id": "a495fa08",
   "metadata": {},
   "outputs": [],
   "source": []
  }
 ],
 "metadata": {
  "kernelspec": {
   "display_name": "Python 3 (ipykernel)",
   "language": "python",
   "name": "python3"
  },
  "language_info": {
   "codemirror_mode": {
    "name": "ipython",
    "version": 3
   },
   "file_extension": ".py",
   "mimetype": "text/x-python",
   "name": "python",
   "nbconvert_exporter": "python",
   "pygments_lexer": "ipython3",
   "version": "3.10.9"
  }
 },
 "nbformat": 4,
 "nbformat_minor": 5
}

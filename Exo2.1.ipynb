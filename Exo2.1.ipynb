{
 "cells": [
  {
   "cell_type": "code",
   "execution_count": 1,
   "id": "6a814912-8730-4877-a188-3824846042bf",
   "metadata": {},
   "outputs": [],
   "source": [
    "lis0 = [0, 5.4, \"chaine\", True]"
   ]
  },
  {
   "cell_type": "code",
   "execution_count": 3,
   "id": "4da9c4c3-4f5b-479f-bd00-97df790bd5db",
   "metadata": {},
   "outputs": [],
   "source": [
    "lis0[3] = False"
   ]
  },
  {
   "cell_type": "code",
   "execution_count": 4,
   "id": "58d57c4e-87b2-4922-9108-221785121387",
   "metadata": {},
   "outputs": [
    {
     "data": {
      "text/plain": [
       "False"
      ]
     },
     "execution_count": 4,
     "metadata": {},
     "output_type": "execute_result"
    }
   ],
   "source": [
    "lis0[3]"
   ]
  },
  {
   "cell_type": "code",
   "execution_count": 5,
   "id": "af209fe1-78cb-46f8-a528-986ba7359e7d",
   "metadata": {},
   "outputs": [],
   "source": [
    "lis0.append(\"nouveau\")"
   ]
  },
  {
   "cell_type": "code",
   "execution_count": 6,
   "id": "40e4ef30-aea3-492c-952b-b5ede8621955",
   "metadata": {},
   "outputs": [
    {
     "data": {
      "text/plain": [
       "'nouveau'"
      ]
     },
     "execution_count": 6,
     "metadata": {},
     "output_type": "execute_result"
    }
   ],
   "source": [
    "lis0[4]"
   ]
  },
  {
   "cell_type": "code",
   "execution_count": 7,
   "id": "09973af0-ddf3-4187-a9c4-9b772fc10f80",
   "metadata": {},
   "outputs": [],
   "source": [
    "lis0.insert(2, 34)"
   ]
  },
  {
   "cell_type": "code",
   "execution_count": 9,
   "id": "80526f96-92c5-42a4-b565-e31a00fffcb9",
   "metadata": {},
   "outputs": [
    {
     "data": {
      "text/plain": [
       "34"
      ]
     },
     "execution_count": 9,
     "metadata": {},
     "output_type": "execute_result"
    }
   ],
   "source": [
    "lis0[2]"
   ]
  },
  {
   "cell_type": "code",
   "execution_count": 10,
   "id": "e2ea1264-44d8-46c8-a12b-2c71dd09bca8",
   "metadata": {},
   "outputs": [
    {
     "data": {
      "text/plain": [
       "[0, 1, 2]"
      ]
     },
     "execution_count": 10,
     "metadata": {},
     "output_type": "execute_result"
    }
   ],
   "source": [
    "def fibonacci(N):\n",
    "    out = [0,1]\n",
    "    for i in range(2,N):\n",
    "        out.append(out[i-1]+out[1-2])\n",
    "    return out\n",
    "fibonacci(3)"
   ]
  },
  {
   "cell_type": "code",
   "execution_count": 11,
   "id": "7a2b0520-87f3-4692-be03-5989ebf9fa76",
   "metadata": {},
   "outputs": [
    {
     "data": {
      "text/plain": [
       "[0, 1, 2, 4, 8, 16, 32, 64, 128, 256]"
      ]
     },
     "execution_count": 11,
     "metadata": {},
     "output_type": "execute_result"
    }
   ],
   "source": [
    "fibonacci(10)"
   ]
  },
  {
   "cell_type": "code",
   "execution_count": 17,
   "id": "cfc9761a-9253-4c0a-868f-1c4587cc0831",
   "metadata": {},
   "outputs": [
    {
     "data": {
      "text/plain": [
       "[1, 3, 3, 1]"
      ]
     },
     "execution_count": 17,
     "metadata": {},
     "output_type": "execute_result"
    }
   ],
   "source": [
    "def pascal(N):\n",
    "    if N==1:\n",
    "        return [1]\n",
    "    else:\n",
    "        previous = pascal(N-1)\n",
    "        return [1] + [previous[i]+previous[i+1] for i in range(N-2)]+[1]\n",
    "pascal(4)"
   ]
  },
  {
   "cell_type": "code",
   "execution_count": 27,
   "id": "07026dd3-d2ce-4246-8d29-789c5413bad4",
   "metadata": {},
   "outputs": [
    {
     "name": "stdout",
     "output_type": "stream",
     "text": [
      "[717897987691852588770249, 717897987691852588770249]\n"
     ]
    }
   ],
   "source": [
    "def suites(N):\n",
    "    u=1\n",
    "    v=1\n",
    "    for i in range(N):\n",
    "        u,v = u+v, 2*u-v\n",
    "    return [u,v]\n",
    "    \n",
    "print(suites(100))"
   ]
  },
  {
   "cell_type": "code",
   "execution_count": 35,
   "id": "2dfee01b-a900-4337-8728-55af40919651",
   "metadata": {},
   "outputs": [
    {
     "name": "stdout",
     "output_type": "stream",
     "text": [
      "[2.0, 1.0, 4.0, 2.0, 1.0]\n"
     ]
    }
   ],
   "source": [
    "def vk(n0,K):\n",
    "    v=int(n0)\n",
    "    out=[]\n",
    "    liste=[10, 100, 1000, 10000]\n",
    "    for i in range(K):\n",
    "        if v%2==0:\n",
    "            v=v/2\n",
    "        else:\n",
    "            v=3*v+1\n",
    "        if i in range (K-5,K):\n",
    "            out.append(v)\n",
    "    if n0 in liste:\n",
    "        return out\n",
    "print(vk(100,1000))"
   ]
  },
  {
   "cell_type": "code",
   "execution_count": null,
   "id": "aa44f179-e62c-489e-90d4-a7d9d046b6f4",
   "metadata": {},
   "outputs": [],
   "source": []
  }
 ],
 "metadata": {
  "kernelspec": {
   "display_name": "Python 3 (ipykernel)",
   "language": "python",
   "name": "python3"
  },
  "language_info": {
   "codemirror_mode": {
    "name": "ipython",
    "version": 3
   },
   "file_extension": ".py",
   "mimetype": "text/x-python",
   "name": "python",
   "nbconvert_exporter": "python",
   "pygments_lexer": "ipython3",
   "version": "3.10.9"
  }
 },
 "nbformat": 4,
 "nbformat_minor": 5
}

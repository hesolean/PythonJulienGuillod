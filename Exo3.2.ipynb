{
 "cells": [
  {
   "cell_type": "code",
   "execution_count": 2,
   "id": "dbd2a5e1",
   "metadata": {},
   "outputs": [
    {
     "name": "stdout",
     "output_type": "stream",
     "text": [
      "[[ 2.  3.  3.]\n",
      " [ 5.  7. 16.]\n",
      " [ 5.  2.  5.]]\n",
      "[[ 1.    1.25  0.  ]\n",
      " [ 0.    5.49 64.  ]\n",
      " [ 6.    0.    0.  ]]\n",
      "[[1.00000000e+01 1.58113883e+01 1.00000000e+01]\n",
      " [1.00000000e+01 5.09092679e+01 1.67772160e+08]\n",
      " [9.00000000e+01 1.00000000e+01 1.00000000e+01]]\n"
     ]
    }
   ],
   "source": [
    "import numpy as np\n",
    "mat1 = np.array([[1,2.5,3],[5,6.1,8],[3,2,5]])\n",
    "mat2 = np.array([[1,0.5,0],[0,0.9,8],[2,0,0]])\n",
    "print(mat1 + mat2)\n",
    "print(mat1 * mat2)\n",
    "print(10*mat1**mat2)"
   ]
  },
  {
   "cell_type": "code",
   "execution_count": 3,
   "id": "a6738141",
   "metadata": {},
   "outputs": [],
   "source": [
    "def derive_discrete(v):\n",
    "    d = []\n",
    "    for i in range(0,len(v)-1):\n",
    "        d.append(v[i+1]-v[i])\n",
    "    return d"
   ]
  },
  {
   "cell_type": "code",
   "execution_count": null,
   "id": "8a9e9d95",
   "metadata": {},
   "outputs": [],
   "source": []
  }
 ],
 "metadata": {
  "kernelspec": {
   "display_name": "Python 3 (ipykernel)",
   "language": "python",
   "name": "python3"
  },
  "language_info": {
   "codemirror_mode": {
    "name": "ipython",
    "version": 3
   },
   "file_extension": ".py",
   "mimetype": "text/x-python",
   "name": "python",
   "nbconvert_exporter": "python",
   "pygments_lexer": "ipython3",
   "version": "3.10.9"
  }
 },
 "nbformat": 4,
 "nbformat_minor": 5
}

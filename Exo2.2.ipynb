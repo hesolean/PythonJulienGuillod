{
 "cells": [
  {
   "cell_type": "code",
   "execution_count": 1,
   "id": "aa13faa3-fcd2-421a-b684-aa5a8de055e0",
   "metadata": {},
   "outputs": [],
   "source": [
    "tuple0=(0,5.4,\"chaine\",True)"
   ]
  },
  {
   "cell_type": "code",
   "execution_count": 2,
   "id": "5068f7c7-9396-4f1b-a761-acb40fd14dee",
   "metadata": {},
   "outputs": [],
   "source": [
    "tuple0=(1)"
   ]
  },
  {
   "cell_type": "code",
   "execution_count": 3,
   "id": "b89b93d1-36ca-4f43-844e-a36430c6406a",
   "metadata": {},
   "outputs": [
    {
     "name": "stdout",
     "output_type": "stream",
     "text": [
      "1\n"
     ]
    }
   ],
   "source": [
    "print(tuple0)"
   ]
  },
  {
   "cell_type": "code",
   "execution_count": 15,
   "id": "ccf51a4d-f1ac-46e4-a0e5-12aec7cf1acf",
   "metadata": {},
   "outputs": [
    {
     "name": "stdout",
     "output_type": "stream",
     "text": [
      "[(10, 100), (15, 25, 100), (20, 25, 30, 35, 100)]\n"
     ]
    }
   ],
   "source": [
    "def mdlast(lst,val):\n",
    "    return [t[:-1]+(100,) for t in lst]\n",
    "\n",
    "liste = [(10,20),(15,25,35),(20,25,30,35,40)]\n",
    "print(mdlast(liste,1))"
   ]
  },
  {
   "cell_type": "code",
   "execution_count": 19,
   "id": "06afdeb6-d5a8-44b4-9a6c-7946d15471c7",
   "metadata": {},
   "outputs": [
    {
     "name": "stdout",
     "output_type": "stream",
     "text": [
      "(1, 2, 5, 8)\n"
     ]
    }
   ],
   "source": [
    "lst=[1,2,5,8]\n",
    "tpl = tuple(lst)\n",
    "print(tpl)"
   ]
  },
  {
   "cell_type": "code",
   "execution_count": null,
   "id": "16fa9935-5855-4cb1-b412-01ea85cd3fb3",
   "metadata": {},
   "outputs": [],
   "source": [
    "lst=li"
   ]
  }
 ],
 "metadata": {
  "kernelspec": {
   "display_name": "Python 3 (ipykernel)",
   "language": "python",
   "name": "python3"
  },
  "language_info": {
   "codemirror_mode": {
    "name": "ipython",
    "version": 3
   },
   "file_extension": ".py",
   "mimetype": "text/x-python",
   "name": "python",
   "nbconvert_exporter": "python",
   "pygments_lexer": "ipython3",
   "version": "3.10.9"
  }
 },
 "nbformat": 4,
 "nbformat_minor": 5
}

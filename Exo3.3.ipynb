{
 "cells": [
  {
   "cell_type": "code",
   "execution_count": 1,
   "id": "d9d06452",
   "metadata": {},
   "outputs": [],
   "source": [
    "import numpy as np\n",
    "def vdm(x,n):\n",
    "    p = np.size(x) #je construis un vecteur linéaire de taille x\n",
    "    vdm = np.empty((p,n+1)) #je construis une matrice vide de p lignes et n+1 colonnes\n",
    "    for i in range(p):\n",
    "        for j in range(n+1):\n",
    "            vdm[i,j] = x[i]**j\n",
    "    return vdm"
   ]
  },
  {
   "cell_type": "code",
   "execution_count": 12,
   "id": "57c02d63",
   "metadata": {},
   "outputs": [],
   "source": [
    "def vdm2(x,n):\n",
    "    p = np.size(x)\n",
    "    vdm = np.empty((p,n+1))\n",
    "    for k in range(n):\n",
    "        vdm[:,k] = x**k\n",
    "    return vdm"
   ]
  },
  {
   "cell_type": "code",
   "execution_count": 14,
   "id": "8c1469b4",
   "metadata": {},
   "outputs": [],
   "source": [
    "def vdm3(x,n):\n",
    "    p = np.size(x)\n",
    "    vdm = np.ones((p,n+1))\n",
    "    for k in range(1,n+1):\n",
    "        vdm[:,k] = vdm[:,k-1]*x\n",
    "    return vdm"
   ]
  },
  {
   "cell_type": "code",
   "execution_count": 7,
   "id": "f2ea59ad",
   "metadata": {},
   "outputs": [],
   "source": [
    "p = 100\n",
    "n = 150\n",
    "x = np.random.rand(p)"
   ]
  },
  {
   "cell_type": "code",
   "execution_count": 8,
   "id": "dfbae12d",
   "metadata": {},
   "outputs": [
    {
     "name": "stdout",
     "output_type": "stream",
     "text": [
      "11.6 ms ± 990 µs per loop (mean ± std. dev. of 7 runs, 100 loops each)\n"
     ]
    }
   ],
   "source": [
    "%%timeit\n",
    "vdm(x,n)"
   ]
  },
  {
   "cell_type": "code",
   "execution_count": 9,
   "id": "e4a5129e",
   "metadata": {},
   "outputs": [
    {
     "name": "stdout",
     "output_type": "stream",
     "text": [
      "2.89 ms ± 1.27 ms per loop (mean ± std. dev. of 7 runs, 100 loops each)\n"
     ]
    }
   ],
   "source": [
    "%%timeit\n",
    "vdm2(x,n)"
   ]
  },
  {
   "cell_type": "code",
   "execution_count": 15,
   "id": "a4f02459",
   "metadata": {},
   "outputs": [
    {
     "name": "stdout",
     "output_type": "stream",
     "text": [
      "763 µs ± 139 µs per loop (mean ± std. dev. of 7 runs, 1,000 loops each)\n"
     ]
    }
   ],
   "source": [
    "%%timeit\n",
    "vdm3(x,n)"
   ]
  },
  {
   "cell_type": "code",
   "execution_count": null,
   "id": "adb94a57",
   "metadata": {},
   "outputs": [],
   "source": []
  }
 ],
 "metadata": {
  "kernelspec": {
   "display_name": "Python 3 (ipykernel)",
   "language": "python",
   "name": "python3"
  },
  "language_info": {
   "codemirror_mode": {
    "name": "ipython",
    "version": 3
   },
   "file_extension": ".py",
   "mimetype": "text/x-python",
   "name": "python",
   "nbconvert_exporter": "python",
   "pygments_lexer": "ipython3",
   "version": "3.10.9"
  }
 },
 "nbformat": 4,
 "nbformat_minor": 5
}
